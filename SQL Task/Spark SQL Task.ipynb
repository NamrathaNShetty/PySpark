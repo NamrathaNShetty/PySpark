{
 "cells": [
  {
   "cell_type": "code",
   "execution_count": null,
   "id": "2b472b4f",
   "metadata": {
    "scrolled": true
   },
   "outputs": [],
   "source": [
    "df = spark.read.format(\"csv\").option(\"header\", \"true\").load(\"hdfs://localhost:9000/Spark/CpuLogData/*.csv\")"
   ]
  },
  {
   "cell_type": "code",
   "execution_count": null,
   "id": "d14654b3",
   "metadata": {},
   "outputs": [],
   "source": [
    "df.select(\"user_name\",\"boot_time\",\"keyboard\",\"mouse\").show()"
   ]
  },
  {
   "cell_type": "code",
   "execution_count": null,
   "id": "cd9a63ed",
   "metadata": {},
   "outputs": [],
   "source": [
    "dfs = df.groupby(\"user_name\").count()\n",
    "dfs.show()"
   ]
  },
  {
   "cell_type": "code",
   "execution_count": null,
   "id": "5ddf6f28",
   "metadata": {},
   "outputs": [],
   "source": [
    "import matplotlib.pyplot as plt\n",
    "try:\n",
    "    df = dfs.toPandas()\n",
    "    df.plot(kind = 'bar', x='user_name', y='count')\n",
    "    df.plot(kind = 'pie', x='user_name', y='count')\n",
    "    plt.show()\n",
    "except Exception as e:\n",
    "    print(e)"
   ]
  },
  {
   "cell_type": "code",
   "execution_count": null,
   "id": "3171852b",
   "metadata": {},
   "outputs": [],
   "source": [
    "df = spark.read.format(\"csv\").option(\"header\", \"true\").load(\"hdfs://localhost:9000/Spark/CpuLogData/*.csv\")\n",
    "dfs = df.select(\"user_name\",\"boot_time\",\"keyboard\",\"mouse\")\n"
   ]
  },
  {
   "cell_type": "code",
   "execution_count": null,
   "id": "1c0b15d1",
   "metadata": {},
   "outputs": [],
   "source": [
    "df.createOrReplaceTempView(\"logdata\")"
   ]
  },
  {
   "cell_type": "code",
   "execution_count": null,
   "id": "231f336f",
   "metadata": {},
   "outputs": [],
   "source": [
    "# Finding users with highest number of average hours \n",
    "highest_avg_work_hours = spark.sql(\"SELECT user_name,from_unixtime(round((((count(user_name)*5)*60)/6),2),'HH:mm') as active_hours FROM logdata WHERE keyboard !=0 OR mouse !=0 GROUP BY user_name ORDER BY active_hours desc\")\n",
    "highest_avg_work_hours.show()"
   ]
  },
  {
   "cell_type": "code",
   "execution_count": null,
   "id": "98bd053c",
   "metadata": {},
   "outputs": [],
   "source": [
    "df = spark.read.format(\"csv\").option(\"header\", \"true\").load(\"hdfs://localhost:9000/Spark/CpuLogData/*.csv\")\n",
    "dfs = df.select(\"user_name\",\"boot_time\",\"keyboard\",\"mouse\")\n",
    "df.createOrReplaceTempView(\"logdata1\")"
   ]
  },
  {
   "cell_type": "code",
   "execution_count": null,
   "id": "ed5d4699",
   "metadata": {},
   "outputs": [],
   "source": [
    "# Finding users with lowest number of average hours \n",
    "lowest_avg_work_hours = spark.sql(\"SELECT user_name,from_unixtime(round((((count(user_name)*5)*60)/6),2),'HH:mm') active_hours FROM logdata1 WHERE keyboard !=0 OR mouse !=0 GROUP BY user_name ORDER BY active_hours asc\")\n",
    "lowest_avg_work_hours.show()"
   ]
  },
  {
   "cell_type": "code",
   "execution_count": null,
   "id": "d6172546",
   "metadata": {},
   "outputs": [],
   "source": [
    "df = spark.read.format(\"csv\").option(\"header\", \"true\").load(\"hdfs://localhost:9000/Spark/CpuLogData/*.csv\")\n",
    "dfs = df.select(\"user_name\",\"boot_time\",\"keyboard\",\"mouse\")\n",
    "df.createOrReplaceTempView(\"logdata2\")"
   ]
  },
  {
   "cell_type": "code",
   "execution_count": null,
   "id": "d93c4bab",
   "metadata": {},
   "outputs": [],
   "source": [
    "# Finding users with highest number of idle hours\n",
    "highest_idle_hours = spark.sql(\"SELECT user_name,from_unixtime(round((((count(user_name)*5)*60)/6),2),'HH:mm') idle_hours FROM logdata2 WHERE keyboard==0 AND mouse==0 GROUP BY user_name ORDER BY idle_hours desc\")\n",
    "highest_idle_hours.show()"
   ]
  },
  {
   "cell_type": "code",
   "execution_count": null,
   "id": "3be2b7d6",
   "metadata": {},
   "outputs": [],
   "source": []
  },
  {
   "cell_type": "code",
   "execution_count": null,
   "id": "635bd25d",
   "metadata": {},
   "outputs": [],
   "source": []
  }
 ],
 "metadata": {
  "kernelspec": {
   "display_name": "Python 3 (ipykernel)",
   "language": "python",
   "name": "python3"
  },
  "language_info": {
   "codemirror_mode": {
    "name": "ipython",
    "version": 3
   },
   "file_extension": ".py",
   "mimetype": "text/x-python",
   "name": "python",
   "nbconvert_exporter": "python",
   "pygments_lexer": "ipython3",
   "version": "3.8.10"
  }
 },
 "nbformat": 4,
 "nbformat_minor": 5
}
