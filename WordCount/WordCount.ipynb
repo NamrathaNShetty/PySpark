{
 "cells": [
  {
   "cell_type": "code",
   "execution_count": 1,
   "id": "df926ef3",
   "metadata": {},
   "outputs": [],
   "source": [
    "book =  sc.textFile(\"hdfs://localhost:9000/Spark/book.txt\")"
   ]
  },
  {
   "cell_type": "code",
   "execution_count": 3,
   "id": "e4b2f426",
   "metadata": {},
   "outputs": [],
   "source": [
    "words = book.flatMap(lambda line: line.split(\" \"))"
   ]
  },
  {
   "cell_type": "code",
   "execution_count": null,
   "id": "6484ef5d",
   "metadata": {},
   "outputs": [],
   "source": [
    "wordcount = words.map(lambda word: (word, 1)).reduceByKey(lambda a,b:a+b)"
   ]
  },
  {
   "cell_type": "code",
   "execution_count": null,
   "id": "fba1a535",
   "metadata": {},
   "outputs": [],
   "source": [
    "wordcount.collect()"
   ]
  },
  {
   "cell_type": "code",
   "execution_count": null,
   "id": "c9f62ce4",
   "metadata": {},
   "outputs": [],
   "source": []
  }
 ],
 "metadata": {
  "kernelspec": {
   "display_name": "Python 3 (ipykernel)",
   "language": "python",
   "name": "python3"
  },
  "language_info": {
   "codemirror_mode": {
    "name": "ipython",
    "version": 3
   },
   "file_extension": ".py",
   "mimetype": "text/x-python",
   "name": "python",
   "nbconvert_exporter": "python",
   "pygments_lexer": "ipython3",
   "version": "3.8.10"
  }
 },
 "nbformat": 4,
 "nbformat_minor": 5
}
