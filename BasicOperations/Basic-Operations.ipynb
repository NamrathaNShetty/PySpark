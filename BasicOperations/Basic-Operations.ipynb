{
 "cells": [
  {
   "cell_type": "code",
   "execution_count": 1,
   "id": "e5b6fb9d",
   "metadata": {},
   "outputs": [],
   "source": [
    "book =  sc.textFile(\"hdfs://localhost:9000/Spark/book.txt\")"
   ]
  },
  {
   "cell_type": "code",
   "execution_count": 2,
   "id": "31f9f5b1",
   "metadata": {},
   "outputs": [
    {
     "name": "stderr",
     "output_type": "stream",
     "text": [
      "                                                                                \r"
     ]
    },
    {
     "data": {
      "text/plain": [
       "['Hello How are you ',\n",
       " 'Hi How many books do you have',\n",
       " 'Hello hi ',\n",
       " 'How many of you are coming']"
      ]
     },
     "execution_count": 2,
     "metadata": {},
     "output_type": "execute_result"
    }
   ],
   "source": [
    "book.take(4)"
   ]
  },
  {
   "cell_type": "code",
   "execution_count": 3,
   "id": "9e014554",
   "metadata": {},
   "outputs": [
    {
     "data": {
      "text/plain": [
       "2"
      ]
     },
     "execution_count": 3,
     "metadata": {},
     "output_type": "execute_result"
    }
   ],
   "source": [
    "book.getNumPartitions()"
   ]
  },
  {
   "cell_type": "code",
   "execution_count": 4,
   "id": "f5d5ecf0",
   "metadata": {},
   "outputs": [
    {
     "data": {
      "text/plain": [
       "['Hello How are you ',\n",
       " 'Hi How many books do you have',\n",
       " 'Hello hi ',\n",
       " 'How many of you are coming',\n",
       " 'How can I help you',\n",
       " 'May I come in']"
      ]
     },
     "execution_count": 4,
     "metadata": {},
     "output_type": "execute_result"
    }
   ],
   "source": [
    "book.collect()"
   ]
  },
  {
   "cell_type": "code",
   "execution_count": 5,
   "id": "f654ee31",
   "metadata": {},
   "outputs": [
    {
     "data": {
      "text/plain": [
       "6"
      ]
     },
     "execution_count": 5,
     "metadata": {},
     "output_type": "execute_result"
    }
   ],
   "source": [
    "book.count()"
   ]
  },
  {
   "cell_type": "code",
   "execution_count": 6,
   "id": "6b96e7f9",
   "metadata": {},
   "outputs": [
    {
     "data": {
      "text/plain": [
       "11"
      ]
     },
     "execution_count": 6,
     "metadata": {},
     "output_type": "execute_result"
    }
   ],
   "source": [
    "book1 =book.repartition(11)\n",
    "book1.getNumPartitions()"
   ]
  },
  {
   "cell_type": "code",
   "execution_count": 7,
   "id": "39ac355a",
   "metadata": {},
   "outputs": [
    {
     "data": {
      "text/plain": [
       "10"
      ]
     },
     "execution_count": 7,
     "metadata": {},
     "output_type": "execute_result"
    }
   ],
   "source": [
    "book2 = book1.coalesce(10)\n",
    "book2.getNumPartitions()"
   ]
  },
  {
   "cell_type": "code",
   "execution_count": 8,
   "id": "82913805",
   "metadata": {},
   "outputs": [
    {
     "name": "stderr",
     "output_type": "stream",
     "text": [
      "                                                                                \r"
     ]
    },
    {
     "data": {
      "text/plain": [
       "'Hello How are you '"
      ]
     },
     "execution_count": 8,
     "metadata": {},
     "output_type": "execute_result"
    }
   ],
   "source": [
    "book2.first()"
   ]
  },
  {
   "cell_type": "code",
   "execution_count": 17,
   "id": "e730882c",
   "metadata": {},
   "outputs": [],
   "source": [
    "bookdet=book.flatMap(lambda line :line.split(\" \"))"
   ]
  },
  {
   "cell_type": "code",
   "execution_count": 18,
   "id": "4dd82d46",
   "metadata": {},
   "outputs": [
    {
     "data": {
      "text/plain": [
       "['Hello', 'How', 'are', 'you', '']"
      ]
     },
     "execution_count": 18,
     "metadata": {},
     "output_type": "execute_result"
    }
   ],
   "source": [
    "bookdet.take(5)"
   ]
  },
  {
   "cell_type": "code",
   "execution_count": 19,
   "id": "67e56a83",
   "metadata": {},
   "outputs": [],
   "source": [
    "bookdet = book.map(lambda line :line.split(\" \"))"
   ]
  },
  {
   "cell_type": "code",
   "execution_count": 20,
   "id": "ec9b570d",
   "metadata": {},
   "outputs": [
    {
     "data": {
      "text/plain": [
       "[['Hello'], ['How'], ['are'], ['you'], ['']]"
      ]
     },
     "execution_count": 20,
     "metadata": {},
     "output_type": "execute_result"
    }
   ],
   "source": [
    "bookdet.take(5)"
   ]
  },
  {
   "cell_type": "code",
   "execution_count": 25,
   "id": "ada2c535",
   "metadata": {},
   "outputs": [],
   "source": [
    "a = sc.parallelize(range(1,25))"
   ]
  },
  {
   "cell_type": "code",
   "execution_count": 26,
   "id": "e2a749fc",
   "metadata": {},
   "outputs": [
    {
     "data": {
      "text/plain": [
       "[1,\n",
       " 2,\n",
       " 3,\n",
       " 4,\n",
       " 5,\n",
       " 6,\n",
       " 7,\n",
       " 8,\n",
       " 9,\n",
       " 10,\n",
       " 11,\n",
       " 12,\n",
       " 13,\n",
       " 14,\n",
       " 15,\n",
       " 16,\n",
       " 17,\n",
       " 18,\n",
       " 19,\n",
       " 20,\n",
       " 21,\n",
       " 22,\n",
       " 23,\n",
       " 24]"
      ]
     },
     "execution_count": 26,
     "metadata": {},
     "output_type": "execute_result"
    }
   ],
   "source": [
    "a.collect()"
   ]
  },
  {
   "cell_type": "code",
   "execution_count": 37,
   "id": "a114646e",
   "metadata": {},
   "outputs": [],
   "source": [
    "words = ['May I come in']\n",
    "book3 = book2.filter(lambda line:line not in words)\n"
   ]
  },
  {
   "cell_type": "code",
   "execution_count": 38,
   "id": "96bff87b",
   "metadata": {},
   "outputs": [
    {
     "data": {
      "text/plain": [
       "['Hello How are you ',\n",
       " 'Hi How many books do you have',\n",
       " 'Hello hi ',\n",
       " 'How many of you are coming',\n",
       " 'How can I help you']"
      ]
     },
     "execution_count": 38,
     "metadata": {},
     "output_type": "execute_result"
    }
   ],
   "source": [
    "book3.collect()"
   ]
  },
  {
   "cell_type": "code",
   "execution_count": null,
   "id": "5dfe1290",
   "metadata": {},
   "outputs": [],
   "source": []
  }
 ],
 "metadata": {
  "kernelspec": {
   "display_name": "Python 3 (ipykernel)",
   "language": "python",
   "name": "python3"
  },
  "language_info": {
   "codemirror_mode": {
    "name": "ipython",
    "version": 3
   },
   "file_extension": ".py",
   "mimetype": "text/x-python",
   "name": "python",
   "nbconvert_exporter": "python",
   "pygments_lexer": "ipython3",
   "version": "3.8.10"
  }
 },
 "nbformat": 4,
 "nbformat_minor": 5
}
